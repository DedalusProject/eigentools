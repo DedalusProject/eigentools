{
 "cells": [
  {
   "cell_type": "code",
   "execution_count": 1,
   "metadata": {},
   "outputs": [],
   "source": [
    "import matplotlib.pyplot as plt\n",
    "from mpi4py import MPI\n",
    "from eigentools import Eigenproblem, CriticalFinder\n",
    "import time\n",
    "import dedalus.public as de\n",
    "import numpy as np\n",
    "\n",
    "import scipy.linalg\n",
    "import scipy.sparse.linalg"
   ]
  },
  {
   "cell_type": "code",
   "execution_count": 2,
   "metadata": {},
   "outputs": [
    {
     "name": "stdout",
     "output_type": "stream",
     "text": [
      "2020-12-09 17:26:59,444 problems 0/1 INFO :: Solving EVP with homogeneity tolerance of 1.000e-10\n",
      "2020-12-09 17:26:59,517 problems 0/1 INFO :: Solving EVP with homogeneity tolerance of 1.000e-10\n"
     ]
    }
   ],
   "source": [
    "z = de.Chebyshev('z',96)\n",
    "d = de.Domain([z],comm=MPI.COMM_SELF)\n",
    "\n",
    "orr_somerfeld = de.EVP(d,['w','wz','wzz','wzzz'],'c')\n",
    "orr_somerfeld.parameters['alpha'] = 1.\n",
    "orr_somerfeld.parameters['Re'] = 10000.\n",
    "#orr_somerfeld.substitutions['sigma'] = '-1j*alpha*Re*c'\n",
    "orr_somerfeld.substitutions['umean']= '1 - z**2'\n",
    "orr_somerfeld.substitutions['umeanzz']= '-2'\n",
    "\n",
    "#orr_somerfeld.add_equation('dz(wzzz) - 2*alpha**2*wzz + alpha**4*w - sigma*(wzz-alpha**2*w)-1j*alpha*(Re*(1-z**2)*(wzz-alpha**2*w) + 2*Re*w) = 0 ')\n",
    "orr_somerfeld.add_equation('dz(wzzz) - 2*alpha**2*wzz + alpha**4*w -1j*alpha*Re*((umean-c)*(wzz - alpha**2*w) - umeanzz*w) = 0')\n",
    "orr_somerfeld.add_equation('dz(w)-wz = 0')\n",
    "orr_somerfeld.add_equation('dz(wz)-wzz = 0')\n",
    "orr_somerfeld.add_equation('dz(wzz)-wzzz = 0')\n",
    "\n",
    "orr_somerfeld.add_bc('left(w) = 0')\n",
    "orr_somerfeld.add_bc('right(w) = 0')\n",
    "orr_somerfeld.add_bc('left(wz) = 0')\n",
    "orr_somerfeld.add_bc('right(wz) = 0')\n",
    "\n",
    "# create an Eigenproblem object\n",
    "EP = Eigenproblem(orr_somerfeld)"
   ]
  },
  {
   "cell_type": "code",
   "execution_count": 3,
   "metadata": {},
   "outputs": [
    {
     "name": "stdout",
     "output_type": "stream",
     "text": [
      "2020-12-09 17:26:59,579 problems 0/1 INFO :: Solving EVP with homogeneity tolerance of 1.000e-10\n"
     ]
    }
   ],
   "source": [
    "EPs = Eigenproblem(orr_somerfeld)"
   ]
  },
  {
   "cell_type": "code",
   "execution_count": 4,
   "metadata": {},
   "outputs": [],
   "source": [
    "EP.solve(sparse=False)"
   ]
  },
  {
   "cell_type": "code",
   "execution_count": 5,
   "metadata": {},
   "outputs": [],
   "source": [
    "EPs.solve(sparse=True, N=50)"
   ]
  },
  {
   "cell_type": "code",
   "execution_count": 6,
   "metadata": {},
   "outputs": [],
   "source": [
    "ev_SH = EP.evalues_good.copy()"
   ]
  },
  {
   "cell_type": "code",
   "execution_count": 7,
   "metadata": {},
   "outputs": [],
   "source": [
    "def pseudo(L,xlim,ylim, size):\n",
    "    xrange = np.linspace(xlim[0],xlim[1], size)\n",
    "    yrange = np.linspace(ylim[0],ylim[1], size)\n",
    "    R = np.zeros((size,size))\n",
    "    matsize = L.shape[0]\n",
    "    for j, y in enumerate(yrange):\n",
    "        for i,x in enumerate(xrange):\n",
    "            z = x + 1j*y\n",
    "            R[j,i] = np.linalg.norm((z*np.eye(matsize) - L),ord=-2)\n",
    "    return R,xrange,yrange"
   ]
  },
  {
   "cell_type": "code",
   "execution_count": 8,
   "metadata": {},
   "outputs": [],
   "source": [
    "E = (EP.solver.pencils[0].M_exp).toarray()\n",
    "A = (EP.solver.pencils[0].L_exp).toarray()"
   ]
  },
  {
   "cell_type": "code",
   "execution_count": 9,
   "metadata": {},
   "outputs": [],
   "source": [
    "mu=0.25\n",
    "pr = EP.solver.pencils[0].pre_right\n",
    "V = np.linalg.inv(pr.toarray())@EPs.solver.eigenvectors\n",
    "\n",
    "#V= EPs.solver.eigenvectors\n",
    "Q,R = np.linalg.qr(V)\n",
    "\n",
    "Ghat = Q.conj().T@(np.linalg.inv(A-mu*E)@E)@Q\n",
    "I = np.eye(Ghat.shape[0])\n",
    "\n",
    "Gmu = np.linalg.inv(Ghat)+mu*I"
   ]
  },
  {
   "cell_type": "code",
   "execution_count": 10,
   "metadata": {},
   "outputs": [],
   "source": [
    "OS_pseudo, OS_x, OS_y = pseudo(Gmu,[-1,0],[-1,1],100)"
   ]
  },
  {
   "cell_type": "code",
   "execution_count": 15,
   "metadata": {
    "scrolled": true
   },
   "outputs": [
    {
     "data": {
      "text/plain": [
       "(-1.0, 0.1)"
      ]
     },
     "execution_count": 15,
     "metadata": {},
     "output_type": "execute_result"
    },
    {
     "data": {
      "image/png": "[encoded data removed]",
      "text/plain": [
       "<Figure size 432x288 with 1 Axes>"
      ]
     },
     "metadata": {
      "image/png": {
       "height": 248,
       "width": 251
      },
      "needs_background": "light"
     },
     "output_type": "display_data"
    }
   ],
   "source": [
    "plt.scatter(EP.evalues_low.real, EP.evalues_low.imag,color='red')\n",
    "#plt.contour(-OS_x, -OS_y, np.log10(OS_pseudo),levels=[-8,-7,-6,-5,-4,-3,-2,-1],colors='k')\n",
    "plt.axis('square')\n",
    "#plt.colorbar()\n",
    "plt.xlim(0,1)\n",
    "plt.ylim(-1,0.1)"
   ]
  },
  {
   "cell_type": "code",
   "execution_count": 16,
   "metadata": {},
   "outputs": [
    {
     "data": {
      "text/plain": [
       "2.0"
      ]
     },
     "execution_count": 16,
     "metadata": {},
     "output_type": "execute_result"
    }
   ],
   "source": [
    "96/48"
   ]
  },
  {
   "cell_type": "code",
   "execution_count": null,
   "metadata": {},
   "outputs": [],
   "source": []
  }
 ],
 "metadata": {
  "kernelspec": {
   "display_name": "Python 3",
   "language": "python",
   "name": "python3"
  },
  "language_info": {
   "codemirror_mode": {
    "name": "ipython",
    "version": 3
   },
   "file_extension": ".py",
   "mimetype": "text/x-python",
   "name": "python",
   "nbconvert_exporter": "python",
   "pygments_lexer": "ipython3",
   "version": "3.8.3"
  }
 },
 "nbformat": 4,
 "nbformat_minor": 4
}
